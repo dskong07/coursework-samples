{
 "cells": [
  {
   "cell_type": "code",
   "execution_count": 1,
   "id": "6a22f845",
   "metadata": {
    "tags": []
   },
   "outputs": [],
   "source": [
    "import pandas as pd\n",
    "import numpy as np\n",
    "import sklearn.preprocessing\n",
    "import sklearn as sk"
   ]
  },
  {
   "cell_type": "code",
   "execution_count": 2,
   "id": "b43bf591",
   "metadata": {
    "tags": []
   },
   "outputs": [],
   "source": [
    "src_list = []\n",
    "for i in range(9):\n",
    "    src = 'raw_data_'+str(i+11)+\"-\"+str(i+12)+'.csv'\n",
    "    src_list.append(src)\n",
    "    \n",
    "\n",
    "for i in range(3):\n",
    "    src = 'raw_data_'+str(i+21)+\"-\"+str(i+22)+'.csv'\n",
    "    src_list.append(src)"
   ]
  },
  {
   "cell_type": "code",
   "execution_count": 3,
   "id": "6bce3d57",
   "metadata": {
    "tags": []
   },
   "outputs": [
    {
     "data": {
      "text/plain": [
       "['raw_data_11-12.csv',\n",
       " 'raw_data_12-13.csv',\n",
       " 'raw_data_13-14.csv',\n",
       " 'raw_data_14-15.csv',\n",
       " 'raw_data_15-16.csv',\n",
       " 'raw_data_16-17.csv',\n",
       " 'raw_data_17-18.csv',\n",
       " 'raw_data_18-19.csv',\n",
       " 'raw_data_19-20.csv',\n",
       " 'raw_data_21-22.csv',\n",
       " 'raw_data_22-23.csv',\n",
       " 'raw_data_23-24.csv']"
      ]
     },
     "execution_count": 3,
     "metadata": {},
     "output_type": "execute_result"
    }
   ],
   "source": [
    "src_list"
   ]
  },
  {
   "cell_type": "code",
   "execution_count": 4,
   "id": "2df36bb9",
   "metadata": {
    "tags": []
   },
   "outputs": [],
   "source": [
    "df = pd.read_csv(src_list[10])"
   ]
  },
  {
   "cell_type": "code",
   "execution_count": 5,
   "id": "399322c5",
   "metadata": {
    "tags": []
   },
   "outputs": [],
   "source": [
    "def preproc(df):\n",
    "    to_drop = ['WashingtonStateCode','ESDOrganizationId',\n",
    "           'OrganizationId','washingtonstatename','ESDOrganizationId',\n",
    "          'DistrictName', 'SchoolOrganizationId','ESDName','DistrictOrganizationId','SchoolName'] #cols to drop\n",
    "    student_groups = ['All', 'FederalRaceEthnicity'] #student demographic separation metrics\n",
    "    domains = ['Cognitive', 'Math', 'Literacy', 'SocialEmotional']\n",
    "    \n",
    "    dfconcise = df[df.OrganizationLevel=='State'] #state means state-wide\n",
    "    dfconcise = dfconcise.drop(to_drop, axis=1) #dropped useless cols\n",
    "    dfconcise = dfconcise[dfconcise.StudentGroupType.isin(student_groups)]\n",
    "    dfconcise = dfconcise[dfconcise.Domain.isin(domains)]\n",
    "    print(dfconcise.shape)\n",
    "    return dfconcise"
   ]
  },
  {
   "cell_type": "code",
   "execution_count": 6,
   "id": "5584ce3b",
   "metadata": {
    "tags": []
   },
   "outputs": [
    {
     "name": "stdout",
     "output_type": "stream",
     "text": [
      "(190, 10)\n",
      "(256, 10)\n",
      "(256, 10)\n",
      "(224, 10)\n",
      "(224, 10)\n",
      "(288, 10)\n",
      "(224, 13)\n",
      "(224, 13)\n",
      "(224, 13)\n",
      "(224, 13)\n",
      "(224, 13)\n",
      "(224, 13)\n"
     ]
    }
   ],
   "source": [
    "con_list = []\n",
    "for i in src_list:\n",
    "    tempdf = pd.read_csv(i)\n",
    "    concise = preproc(tempdf)\n",
    "    con_list.append(concise)"
   ]
  },
  {
   "cell_type": "code",
   "execution_count": 7,
   "id": "baeb29dd",
   "metadata": {
    "tags": []
   },
   "outputs": [
    {
     "data": {
      "text/plain": [
       "12"
      ]
     },
     "execution_count": 7,
     "metadata": {},
     "output_type": "execute_result"
    }
   ],
   "source": [
    "len(con_list)"
   ]
  },
  {
   "cell_type": "code",
   "execution_count": 8,
   "id": "31ef50ca",
   "metadata": {
    "tags": []
   },
   "outputs": [],
   "source": [
    "conciseoutput = pd.concat(con_list)"
   ]
  },
  {
   "cell_type": "code",
   "execution_count": 9,
   "id": "ea6ab709",
   "metadata": {
    "tags": []
   },
   "outputs": [
    {
     "data": {
      "text/html": [
       "<div>\n",
       "<style scoped>\n",
       "    .dataframe tbody tr th:only-of-type {\n",
       "        vertical-align: middle;\n",
       "    }\n",
       "\n",
       "    .dataframe tbody tr th {\n",
       "        vertical-align: top;\n",
       "    }\n",
       "\n",
       "    .dataframe thead th {\n",
       "        text-align: right;\n",
       "    }\n",
       "</style>\n",
       "<table border=\"1\" class=\"dataframe\">\n",
       "  <thead>\n",
       "    <tr style=\"text-align: right;\">\n",
       "      <th></th>\n",
       "      <th>schoolyear</th>\n",
       "      <th>OrganizationLevel</th>\n",
       "      <th>StudentGroupType</th>\n",
       "      <th>StudentGroup</th>\n",
       "      <th>Domain</th>\n",
       "      <th>Measure</th>\n",
       "      <th>MeasureValue</th>\n",
       "      <th>Numerator</th>\n",
       "      <th>Denominator</th>\n",
       "      <th>Percent</th>\n",
       "      <th>DevelopmentLevel</th>\n",
       "      <th>Suppress</th>\n",
       "      <th>DataAsOf</th>\n",
       "    </tr>\n",
       "  </thead>\n",
       "  <tbody>\n",
       "    <tr>\n",
       "      <th>10845</th>\n",
       "      <td>2011-12</td>\n",
       "      <td>State</td>\n",
       "      <td>All</td>\n",
       "      <td>All Students</td>\n",
       "      <td>Cognitive</td>\n",
       "      <td>CognitiveReadinessFlag</td>\n",
       "      <td>NaN</td>\n",
       "      <td>506.0</td>\n",
       "      <td>6661.0</td>\n",
       "      <td>0.07596</td>\n",
       "      <td>NaN</td>\n",
       "      <td>NaN</td>\n",
       "      <td>NaN</td>\n",
       "    </tr>\n",
       "    <tr>\n",
       "      <th>11175</th>\n",
       "      <td>2011-12</td>\n",
       "      <td>State</td>\n",
       "      <td>All</td>\n",
       "      <td>All Students</td>\n",
       "      <td>Cognitive</td>\n",
       "      <td>CognitiveReadinessFlag</td>\n",
       "      <td>N</td>\n",
       "      <td>1377.0</td>\n",
       "      <td>6661.0</td>\n",
       "      <td>0.20673</td>\n",
       "      <td>NaN</td>\n",
       "      <td>NaN</td>\n",
       "      <td>NaN</td>\n",
       "    </tr>\n",
       "    <tr>\n",
       "      <th>11354</th>\n",
       "      <td>2011-12</td>\n",
       "      <td>State</td>\n",
       "      <td>All</td>\n",
       "      <td>All Students</td>\n",
       "      <td>Cognitive</td>\n",
       "      <td>CognitiveReadinessFlag</td>\n",
       "      <td>Y</td>\n",
       "      <td>4778.0</td>\n",
       "      <td>6661.0</td>\n",
       "      <td>0.71731</td>\n",
       "      <td>NaN</td>\n",
       "      <td>NaN</td>\n",
       "      <td>NaN</td>\n",
       "    </tr>\n",
       "    <tr>\n",
       "      <th>37984</th>\n",
       "      <td>2011-12</td>\n",
       "      <td>State</td>\n",
       "      <td>All</td>\n",
       "      <td>All Students</td>\n",
       "      <td>Literacy</td>\n",
       "      <td>LiteracyDevelopmentLevel</td>\n",
       "      <td>0-2 year olds</td>\n",
       "      <td>16.0</td>\n",
       "      <td>5902.0</td>\n",
       "      <td>0.00271</td>\n",
       "      <td>NaN</td>\n",
       "      <td>NaN</td>\n",
       "      <td>NaN</td>\n",
       "    </tr>\n",
       "    <tr>\n",
       "      <th>38010</th>\n",
       "      <td>2011-12</td>\n",
       "      <td>State</td>\n",
       "      <td>All</td>\n",
       "      <td>All Students</td>\n",
       "      <td>Literacy</td>\n",
       "      <td>LiteracyDevelopmentLevel</td>\n",
       "      <td>2-year olds</td>\n",
       "      <td>157.0</td>\n",
       "      <td>5902.0</td>\n",
       "      <td>0.02660</td>\n",
       "      <td>NaN</td>\n",
       "      <td>NaN</td>\n",
       "      <td>NaN</td>\n",
       "    </tr>\n",
       "    <tr>\n",
       "      <th>38063</th>\n",
       "      <td>2011-12</td>\n",
       "      <td>State</td>\n",
       "      <td>All</td>\n",
       "      <td>All Students</td>\n",
       "      <td>Literacy</td>\n",
       "      <td>LiteracyDevelopmentLevel</td>\n",
       "      <td>3-year olds</td>\n",
       "      <td>468.0</td>\n",
       "      <td>5902.0</td>\n",
       "      <td>0.07930</td>\n",
       "      <td>NaN</td>\n",
       "      <td>NaN</td>\n",
       "      <td>NaN</td>\n",
       "    </tr>\n",
       "    <tr>\n",
       "      <th>38223</th>\n",
       "      <td>2011-12</td>\n",
       "      <td>State</td>\n",
       "      <td>All</td>\n",
       "      <td>All Students</td>\n",
       "      <td>Literacy</td>\n",
       "      <td>LiteracyDevelopmentLevel</td>\n",
       "      <td>4-year olds</td>\n",
       "      <td>2503.0</td>\n",
       "      <td>5902.0</td>\n",
       "      <td>0.42409</td>\n",
       "      <td>NaN</td>\n",
       "      <td>NaN</td>\n",
       "      <td>NaN</td>\n",
       "    </tr>\n",
       "    <tr>\n",
       "      <th>38484</th>\n",
       "      <td>2011-12</td>\n",
       "      <td>State</td>\n",
       "      <td>All</td>\n",
       "      <td>All Students</td>\n",
       "      <td>Literacy</td>\n",
       "      <td>LiteracyDevelopmentLevel</td>\n",
       "      <td>Kindergarten and up</td>\n",
       "      <td>2758.0</td>\n",
       "      <td>5902.0</td>\n",
       "      <td>0.46730</td>\n",
       "      <td>NaN</td>\n",
       "      <td>NaN</td>\n",
       "      <td>NaN</td>\n",
       "    </tr>\n",
       "    <tr>\n",
       "      <th>38563</th>\n",
       "      <td>2011-12</td>\n",
       "      <td>State</td>\n",
       "      <td>All</td>\n",
       "      <td>All Students</td>\n",
       "      <td>Literacy</td>\n",
       "      <td>LiteracyReadinessFlag</td>\n",
       "      <td>NaN</td>\n",
       "      <td>759.0</td>\n",
       "      <td>6661.0</td>\n",
       "      <td>0.11395</td>\n",
       "      <td>NaN</td>\n",
       "      <td>NaN</td>\n",
       "      <td>NaN</td>\n",
       "    </tr>\n",
       "    <tr>\n",
       "      <th>39027</th>\n",
       "      <td>2011-12</td>\n",
       "      <td>State</td>\n",
       "      <td>All</td>\n",
       "      <td>All Students</td>\n",
       "      <td>Literacy</td>\n",
       "      <td>LiteracyReadinessFlag</td>\n",
       "      <td>N</td>\n",
       "      <td>1639.0</td>\n",
       "      <td>6661.0</td>\n",
       "      <td>0.24606</td>\n",
       "      <td>NaN</td>\n",
       "      <td>NaN</td>\n",
       "      <td>NaN</td>\n",
       "    </tr>\n",
       "  </tbody>\n",
       "</table>\n",
       "</div>"
      ],
      "text/plain": [
       "      schoolyear OrganizationLevel StudentGroupType  StudentGroup     Domain  \\\n",
       "10845    2011-12             State              All  All Students  Cognitive   \n",
       "11175    2011-12             State              All  All Students  Cognitive   \n",
       "11354    2011-12             State              All  All Students  Cognitive   \n",
       "37984    2011-12             State              All  All Students   Literacy   \n",
       "38010    2011-12             State              All  All Students   Literacy   \n",
       "38063    2011-12             State              All  All Students   Literacy   \n",
       "38223    2011-12             State              All  All Students   Literacy   \n",
       "38484    2011-12             State              All  All Students   Literacy   \n",
       "38563    2011-12             State              All  All Students   Literacy   \n",
       "39027    2011-12             State              All  All Students   Literacy   \n",
       "\n",
       "                        Measure         MeasureValue  Numerator  Denominator  \\\n",
       "10845    CognitiveReadinessFlag                  NaN      506.0       6661.0   \n",
       "11175    CognitiveReadinessFlag                    N     1377.0       6661.0   \n",
       "11354    CognitiveReadinessFlag                    Y     4778.0       6661.0   \n",
       "37984  LiteracyDevelopmentLevel        0-2 year olds       16.0       5902.0   \n",
       "38010  LiteracyDevelopmentLevel          2-year olds      157.0       5902.0   \n",
       "38063  LiteracyDevelopmentLevel          3-year olds      468.0       5902.0   \n",
       "38223  LiteracyDevelopmentLevel          4-year olds     2503.0       5902.0   \n",
       "38484  LiteracyDevelopmentLevel  Kindergarten and up     2758.0       5902.0   \n",
       "38563     LiteracyReadinessFlag                  NaN      759.0       6661.0   \n",
       "39027     LiteracyReadinessFlag                    N     1639.0       6661.0   \n",
       "\n",
       "       Percent DevelopmentLevel Suppress DataAsOf  \n",
       "10845  0.07596              NaN      NaN      NaN  \n",
       "11175  0.20673              NaN      NaN      NaN  \n",
       "11354  0.71731              NaN      NaN      NaN  \n",
       "37984  0.00271              NaN      NaN      NaN  \n",
       "38010  0.02660              NaN      NaN      NaN  \n",
       "38063  0.07930              NaN      NaN      NaN  \n",
       "38223  0.42409              NaN      NaN      NaN  \n",
       "38484  0.46730              NaN      NaN      NaN  \n",
       "38563  0.11395              NaN      NaN      NaN  \n",
       "39027  0.24606              NaN      NaN      NaN  "
      ]
     },
     "execution_count": 9,
     "metadata": {},
     "output_type": "execute_result"
    }
   ],
   "source": [
    "conciseoutput.head(10)"
   ]
  },
  {
   "cell_type": "code",
   "execution_count": 15,
   "id": "b2c9fd89",
   "metadata": {},
   "outputs": [],
   "source": [
    "conciseoutput.to_csv('WA_statewide_metrics_concise.csv')"
   ]
  },
  {
   "cell_type": "code",
   "execution_count": null,
   "id": "3e5343a6",
   "metadata": {},
   "outputs": [],
   "source": []
  }
 ],
 "metadata": {
  "kernelspec": {
   "display_name": "Python 3 (ipykernel)",
   "language": "python",
   "name": "python3"
  },
  "language_info": {
   "codemirror_mode": {
    "name": "ipython",
    "version": 3
   },
   "file_extension": ".py",
   "mimetype": "text/x-python",
   "name": "python",
   "nbconvert_exporter": "python",
   "pygments_lexer": "ipython3",
   "version": "3.11.5"
  }
 },
 "nbformat": 4,
 "nbformat_minor": 5
}
