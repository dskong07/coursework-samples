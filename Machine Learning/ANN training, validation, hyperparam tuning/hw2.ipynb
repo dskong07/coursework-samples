{
 "cells": [
  {
   "cell_type": "markdown",
   "id": "0ceeeb46",
   "metadata": {
    "id": "0ceeeb46"
   },
   "source": [
    "# Homework 2\n",
    "\n",
    "For this assignment, you will be developing an artificial neural network to classify data given in the __[Dry Beans Data Set](https://archive.ics.uci.edu/ml/datasets/Dry+Bean+Dataset#)__. This data set was obtained as a part of a research study by Selcuk University, Turkey, in which a computer vision system was developed to distinguish seven different registered varieties of dry beans with similar features. More details on the study can be found in the following __[research paper](https://www.sciencedirect.com/science/article/pii/S0168169919311573)__. <br>\n",
    "**Make sure to use the lecture notebook on an introduction to keras and cross validation located [here](https://colab.research.google.com/drive/1ksEGL7SJ_wutCIyPYx7Loe5EPdOij6dJ?usp=sharing) and [here](https://colab.research.google.com/drive/1C9Mwf1J2ril1Q4l6n2BjQMb8YaFySG5_?usp=sharing)**.\n",
    "\n",
    "## About the Data Set\n",
    "Seven different types of dry beans were used in a study in Selcuk University, Turkey, taking into account the features such as form, shape, type, and structure by the market situation. A computer vision system was developed to distinguish seven different registered varieties of dry beans with similar features in order to obtain uniform seed classification. For the classification model, images of 13611 grains of 7 different registered dry beans were taken with a high-resolution camera. Bean images obtained by computer vision system were subjected to segmentation and feature extraction stages, and a total of 16 features - 12 dimensions and 4 shape forms - were obtained from the grains.\n",
    "\n",
    "Number of Instances (records in the data set): __13611__\n",
    "\n",
    "Number of Attributes (fields within each record, including the class): __17__\n",
    "\n",
    "### Data Set Attribute Information:\n",
    "\n",
    "1. __Area (A)__ : The area of a bean zone and the number of pixels within its boundaries.\n",
    "2. __Perimeter (P)__ : Bean circumference is defined as the length of its border.\n",
    "3. __Major axis length (L)__ : The distance between the ends of the longest line that can be drawn from a bean.\n",
    "4. __Minor axis length (l)__ : The longest line that can be drawn from the bean while standing perpendicular to the main axis.\n",
    "5. __Aspect ratio (K)__ : Defines the relationship between L and l.\n",
    "6. __Eccentricity (Ec)__ : Eccentricity of the ellipse having the same moments as the region.\n",
    "7. __Convex area (C)__ : Number of pixels in the smallest convex polygon that can contain the area of a bean seed.\n",
    "8. __Equivalent diameter (Ed)__ : The diameter of a circle having the same area as a bean seed area.\n",
    "9. __Extent (Ex)__ : The ratio of the pixels in the bounding box to the bean area.\n",
    "10. __Solidity (S)__ : Also known as convexity. The ratio of the pixels in the convex shell to those found in beans.\n",
    "11. __Roundness (R)__ : Calculated with the following formula: (4piA)/(P^2)\n",
    "12. __Compactness (CO)__ : Measures the roundness of an object: Ed/L\n",
    "13. __ShapeFactor1 (SF1)__\n",
    "14. __ShapeFactor2 (SF2)__\n",
    "15. __ShapeFactor3 (SF3)__\n",
    "16. __ShapeFactor4 (SF4)__\n",
    "\n",
    "17. __Classes : *Seker, Barbunya, Bombay, Cali, Dermosan, Horoz, Sira*__"
   ]
  },
  {
   "cell_type": "markdown",
   "id": "61beac74",
   "metadata": {
    "id": "61beac74"
   },
   "source": [
    "### Libraries that can be used :\n",
    "- NumPy, SciPy, Pandas, Sci-Kit Learn, TensorFlow, Keras\n",
    "- Any other library used during the lectures and discussion sessions.\n",
    "\n",
    "### Other Notes\n",
    "- Don't worry about not being able to achieve high accuracy, it is neither the goal nor the grading standard of this assignment.\n",
    "- Discussion and Lecture materials should be helpful for doing the assignments.\n",
    "- The homework submission should be a .ipynb file.\n"
   ]
  },
  {
   "cell_type": "markdown",
   "id": "0264c751",
   "metadata": {
    "id": "0264c751"
   },
   "source": [
    "\n",
    "## Exercise 1 : Building a Feed-Forward Neural Network(50 points)\n",
    "\n",
    "### Exercise 1.1 : Data Preprocessing (10 points)\n",
    "\n",
    "- As the classes are categorical, use one-hot encoding to represent the set of classes. You will find this useful when developing the output layer of the neural network.\n",
    "- Normalize each field of the input data using the min-max normalization technique.\n",
    "\n"
   ]
  },
  {
   "cell_type": "code",
   "execution_count": 1,
   "id": "ce083c71-3882-4b97-b980-23dc7f92d472",
   "metadata": {
    "colab": {
     "base_uri": "https://localhost:8080/"
    },
    "id": "ce083c71-3882-4b97-b980-23dc7f92d472",
    "outputId": "68b0c240-7249-4192-963a-36bd78ac3436",
    "tags": []
   },
   "outputs": [],
   "source": [
    "#!pip install tensorflow\n",
    "#!pip install keras-tuner"
   ]
  },
  {
   "cell_type": "code",
   "execution_count": 2,
   "id": "1St-29dI04l3",
   "metadata": {
    "id": "1St-29dI04l3",
    "tags": []
   },
   "outputs": [
    {
     "name": "stdout",
     "output_type": "stream",
     "text": [
      "WARNING:tensorflow:From C:\\Users\\dskon\\anaconda3\\Lib\\site-packages\\keras\\src\\losses.py:2976: The name tf.losses.sparse_softmax_cross_entropy is deprecated. Please use tf.compat.v1.losses.sparse_softmax_cross_entropy instead.\n",
      "\n"
     ]
    }
   ],
   "source": [
    "import pandas as pd\n",
    "import numpy as np\n",
    "import sklearn as sk\n",
    "from sklearn.preprocessing import MinMaxScaler\n",
    "from sklearn.preprocessing import OneHotEncoder\n",
    "from sklearn.model_selection import train_test_split, RepeatedKFold\n",
    "from sklearn import metrics\n",
    "from sklearn.model_selection import cross_val_score\n",
    "import tensorflow as tf\n",
    "from tensorflow.keras.models import Sequential, Model\n",
    "from tensorflow.keras.layers import Dense, Input\n",
    "from tensorflow.keras.optimizers import SGD\n",
    "from sklearn.metrics import confusion_matrix\n",
    "import keras_tuner as kt\n",
    "import keras"
   ]
  },
  {
   "cell_type": "code",
   "execution_count": 3,
   "id": "f59fd0ac-33db-4464-834e-b7a9780cce65",
   "metadata": {
    "colab": {
     "base_uri": "https://localhost:8080/",
     "height": 396
    },
    "id": "f59fd0ac-33db-4464-834e-b7a9780cce65",
    "outputId": "41fd5679-aad5-469d-fdae-6927948eec20",
    "tags": []
   },
   "outputs": [
    {
     "name": "stdout",
     "output_type": "stream",
     "text": [
      "(13611, 17)\n"
     ]
    },
    {
     "data": {
      "text/html": [
       "<div>\n",
       "<style scoped>\n",
       "    .dataframe tbody tr th:only-of-type {\n",
       "        vertical-align: middle;\n",
       "    }\n",
       "\n",
       "    .dataframe tbody tr th {\n",
       "        vertical-align: top;\n",
       "    }\n",
       "\n",
       "    .dataframe thead th {\n",
       "        text-align: right;\n",
       "    }\n",
       "</style>\n",
       "<table border=\"1\" class=\"dataframe\">\n",
       "  <thead>\n",
       "    <tr style=\"text-align: right;\">\n",
       "      <th></th>\n",
       "      <th>Area</th>\n",
       "      <th>Perimeter</th>\n",
       "      <th>MajorAxisLength</th>\n",
       "      <th>MinorAxisLength</th>\n",
       "      <th>AspectRation</th>\n",
       "      <th>Eccentricity</th>\n",
       "      <th>ConvexArea</th>\n",
       "      <th>EquivDiameter</th>\n",
       "      <th>Extent</th>\n",
       "      <th>Solidity</th>\n",
       "      <th>roundness</th>\n",
       "      <th>Compactness</th>\n",
       "      <th>ShapeFactor1</th>\n",
       "      <th>ShapeFactor2</th>\n",
       "      <th>ShapeFactor3</th>\n",
       "      <th>ShapeFactor4</th>\n",
       "      <th>Class</th>\n",
       "    </tr>\n",
       "  </thead>\n",
       "  <tbody>\n",
       "    <tr>\n",
       "      <th>0</th>\n",
       "      <td>44830</td>\n",
       "      <td>814.955</td>\n",
       "      <td>320.731947</td>\n",
       "      <td>178.405838</td>\n",
       "      <td>1.797766</td>\n",
       "      <td>0.831018</td>\n",
       "      <td>45297</td>\n",
       "      <td>238.912806</td>\n",
       "      <td>0.658877</td>\n",
       "      <td>0.989690</td>\n",
       "      <td>0.848226</td>\n",
       "      <td>0.744899</td>\n",
       "      <td>0.007154</td>\n",
       "      <td>0.001359</td>\n",
       "      <td>0.554874</td>\n",
       "      <td>0.997534</td>\n",
       "      <td>SIRA</td>\n",
       "    </tr>\n",
       "    <tr>\n",
       "      <th>1</th>\n",
       "      <td>33476</td>\n",
       "      <td>691.826</td>\n",
       "      <td>258.837971</td>\n",
       "      <td>165.220760</td>\n",
       "      <td>1.566619</td>\n",
       "      <td>0.769773</td>\n",
       "      <td>33907</td>\n",
       "      <td>206.453305</td>\n",
       "      <td>0.721155</td>\n",
       "      <td>0.987289</td>\n",
       "      <td>0.878921</td>\n",
       "      <td>0.797616</td>\n",
       "      <td>0.007732</td>\n",
       "      <td>0.001930</td>\n",
       "      <td>0.636191</td>\n",
       "      <td>0.996669</td>\n",
       "      <td>DERMASON</td>\n",
       "    </tr>\n",
       "    <tr>\n",
       "      <th>2</th>\n",
       "      <td>27057</td>\n",
       "      <td>606.138</td>\n",
       "      <td>227.460904</td>\n",
       "      <td>151.860320</td>\n",
       "      <td>1.497830</td>\n",
       "      <td>0.744491</td>\n",
       "      <td>27358</td>\n",
       "      <td>185.607226</td>\n",
       "      <td>0.801831</td>\n",
       "      <td>0.988998</td>\n",
       "      <td>0.925436</td>\n",
       "      <td>0.815996</td>\n",
       "      <td>0.008407</td>\n",
       "      <td>0.002299</td>\n",
       "      <td>0.665850</td>\n",
       "      <td>0.997330</td>\n",
       "      <td>DERMASON</td>\n",
       "    </tr>\n",
       "    <tr>\n",
       "      <th>3</th>\n",
       "      <td>49483</td>\n",
       "      <td>844.283</td>\n",
       "      <td>326.602913</td>\n",
       "      <td>194.689529</td>\n",
       "      <td>1.677558</td>\n",
       "      <td>0.802907</td>\n",
       "      <td>50289</td>\n",
       "      <td>251.005403</td>\n",
       "      <td>0.680179</td>\n",
       "      <td>0.983973</td>\n",
       "      <td>0.872348</td>\n",
       "      <td>0.768534</td>\n",
       "      <td>0.006600</td>\n",
       "      <td>0.001420</td>\n",
       "      <td>0.590644</td>\n",
       "      <td>0.990840</td>\n",
       "      <td>SIRA</td>\n",
       "    </tr>\n",
       "    <tr>\n",
       "      <th>4</th>\n",
       "      <td>22461</td>\n",
       "      <td>544.584</td>\n",
       "      <td>192.801303</td>\n",
       "      <td>148.541136</td>\n",
       "      <td>1.297966</td>\n",
       "      <td>0.637517</td>\n",
       "      <td>22699</td>\n",
       "      <td>169.110122</td>\n",
       "      <td>0.774731</td>\n",
       "      <td>0.989515</td>\n",
       "      <td>0.951720</td>\n",
       "      <td>0.877121</td>\n",
       "      <td>0.008584</td>\n",
       "      <td>0.003134</td>\n",
       "      <td>0.769342</td>\n",
       "      <td>0.998579</td>\n",
       "      <td>DERMASON</td>\n",
       "    </tr>\n",
       "  </tbody>\n",
       "</table>\n",
       "</div>"
      ],
      "text/plain": [
       "    Area  Perimeter  MajorAxisLength  MinorAxisLength  AspectRation  \\\n",
       "0  44830    814.955       320.731947       178.405838      1.797766   \n",
       "1  33476    691.826       258.837971       165.220760      1.566619   \n",
       "2  27057    606.138       227.460904       151.860320      1.497830   \n",
       "3  49483    844.283       326.602913       194.689529      1.677558   \n",
       "4  22461    544.584       192.801303       148.541136      1.297966   \n",
       "\n",
       "   Eccentricity  ConvexArea  EquivDiameter    Extent  Solidity  roundness  \\\n",
       "0      0.831018       45297     238.912806  0.658877  0.989690   0.848226   \n",
       "1      0.769773       33907     206.453305  0.721155  0.987289   0.878921   \n",
       "2      0.744491       27358     185.607226  0.801831  0.988998   0.925436   \n",
       "3      0.802907       50289     251.005403  0.680179  0.983973   0.872348   \n",
       "4      0.637517       22699     169.110122  0.774731  0.989515   0.951720   \n",
       "\n",
       "   Compactness  ShapeFactor1  ShapeFactor2  ShapeFactor3  ShapeFactor4  \\\n",
       "0     0.744899      0.007154      0.001359      0.554874      0.997534   \n",
       "1     0.797616      0.007732      0.001930      0.636191      0.996669   \n",
       "2     0.815996      0.008407      0.002299      0.665850      0.997330   \n",
       "3     0.768534      0.006600      0.001420      0.590644      0.990840   \n",
       "4     0.877121      0.008584      0.003134      0.769342      0.998579   \n",
       "\n",
       "      Class  \n",
       "0      SIRA  \n",
       "1  DERMASON  \n",
       "2  DERMASON  \n",
       "3      SIRA  \n",
       "4  DERMASON  "
      ]
     },
     "execution_count": 3,
     "metadata": {},
     "output_type": "execute_result"
    }
   ],
   "source": [
    "df = pd.read_csv('Dry_Beans_Dataset.csv')\n",
    "orig_df = df.copy()\n",
    "print(df.shape)\n",
    "df.head(5)"
   ]
  },
  {
   "cell_type": "code",
   "execution_count": 4,
   "id": "8d37d151-3916-4841-b6e2-95c0eeda357e",
   "metadata": {
    "colab": {
     "base_uri": "https://localhost:8080/",
     "height": 224
    },
    "id": "8d37d151-3916-4841-b6e2-95c0eeda357e",
    "outputId": "3d6b7a93-e394-45ed-f075-5237c36e1042",
    "tags": []
   },
   "outputs": [
    {
     "data": {
      "text/html": [
       "<div>\n",
       "<style scoped>\n",
       "    .dataframe tbody tr th:only-of-type {\n",
       "        vertical-align: middle;\n",
       "    }\n",
       "\n",
       "    .dataframe tbody tr th {\n",
       "        vertical-align: top;\n",
       "    }\n",
       "\n",
       "    .dataframe thead th {\n",
       "        text-align: right;\n",
       "    }\n",
       "</style>\n",
       "<table border=\"1\" class=\"dataframe\">\n",
       "  <thead>\n",
       "    <tr style=\"text-align: right;\">\n",
       "      <th></th>\n",
       "      <th>Area</th>\n",
       "      <th>Perimeter</th>\n",
       "      <th>MajorAxisLength</th>\n",
       "      <th>MinorAxisLength</th>\n",
       "      <th>AspectRation</th>\n",
       "      <th>Eccentricity</th>\n",
       "      <th>ConvexArea</th>\n",
       "      <th>EquivDiameter</th>\n",
       "      <th>Extent</th>\n",
       "      <th>Solidity</th>\n",
       "      <th>roundness</th>\n",
       "      <th>Compactness</th>\n",
       "      <th>ShapeFactor1</th>\n",
       "      <th>ShapeFactor2</th>\n",
       "      <th>ShapeFactor3</th>\n",
       "      <th>ShapeFactor4</th>\n",
       "    </tr>\n",
       "  </thead>\n",
       "  <tbody>\n",
       "    <tr>\n",
       "      <th>0</th>\n",
       "      <td>0.104229</td>\n",
       "      <td>0.198694</td>\n",
       "      <td>0.246967</td>\n",
       "      <td>0.165518</td>\n",
       "      <td>0.549934</td>\n",
       "      <td>0.883887</td>\n",
       "      <td>0.101465</td>\n",
       "      <td>0.190304</td>\n",
       "      <td>0.333127</td>\n",
       "      <td>0.933884</td>\n",
       "      <td>0.715687</td>\n",
       "      <td>0.300877</td>\n",
       "      <td>0.570351</td>\n",
       "      <td>0.256253</td>\n",
       "      <td>0.256074</td>\n",
       "      <td>0.957751</td>\n",
       "    </tr>\n",
       "    <tr>\n",
       "      <th>1</th>\n",
       "      <td>0.055748</td>\n",
       "      <td>0.114396</td>\n",
       "      <td>0.135499</td>\n",
       "      <td>0.126473</td>\n",
       "      <td>0.385468</td>\n",
       "      <td>0.795443</td>\n",
       "      <td>0.054511</td>\n",
       "      <td>0.110772</td>\n",
       "      <td>0.533453</td>\n",
       "      <td>0.902047</td>\n",
       "      <td>0.776947</td>\n",
       "      <td>0.452920</td>\n",
       "      <td>0.645632</td>\n",
       "      <td>0.440609</td>\n",
       "      <td>0.400144</td>\n",
       "      <td>0.941143</td>\n",
       "    </tr>\n",
       "    <tr>\n",
       "      <th>2</th>\n",
       "      <td>0.028340</td>\n",
       "      <td>0.055731</td>\n",
       "      <td>0.078990</td>\n",
       "      <td>0.086908</td>\n",
       "      <td>0.336523</td>\n",
       "      <td>0.758933</td>\n",
       "      <td>0.027513</td>\n",
       "      <td>0.059695</td>\n",
       "      <td>0.792964</td>\n",
       "      <td>0.924703</td>\n",
       "      <td>0.869780</td>\n",
       "      <td>0.505931</td>\n",
       "      <td>0.733560</td>\n",
       "      <td>0.559513</td>\n",
       "      <td>0.452690</td>\n",
       "      <td>0.953829</td>\n",
       "    </tr>\n",
       "    <tr>\n",
       "      <th>3</th>\n",
       "      <td>0.124097</td>\n",
       "      <td>0.218773</td>\n",
       "      <td>0.257541</td>\n",
       "      <td>0.213740</td>\n",
       "      <td>0.464403</td>\n",
       "      <td>0.843291</td>\n",
       "      <td>0.122044</td>\n",
       "      <td>0.219934</td>\n",
       "      <td>0.401647</td>\n",
       "      <td>0.858085</td>\n",
       "      <td>0.763829</td>\n",
       "      <td>0.369044</td>\n",
       "      <td>0.498138</td>\n",
       "      <td>0.276116</td>\n",
       "      <td>0.319448</td>\n",
       "      <td>0.829136</td>\n",
       "    </tr>\n",
       "    <tr>\n",
       "      <th>4</th>\n",
       "      <td>0.008715</td>\n",
       "      <td>0.013589</td>\n",
       "      <td>0.016569</td>\n",
       "      <td>0.077079</td>\n",
       "      <td>0.194315</td>\n",
       "      <td>0.604452</td>\n",
       "      <td>0.008307</td>\n",
       "      <td>0.019274</td>\n",
       "      <td>0.705791</td>\n",
       "      <td>0.931560</td>\n",
       "      <td>0.922235</td>\n",
       "      <td>0.682223</td>\n",
       "      <td>0.756639</td>\n",
       "      <td>0.828764</td>\n",
       "      <td>0.636047</td>\n",
       "      <td>0.977839</td>\n",
       "    </tr>\n",
       "  </tbody>\n",
       "</table>\n",
       "</div>"
      ],
      "text/plain": [
       "       Area  Perimeter  MajorAxisLength  MinorAxisLength  AspectRation  \\\n",
       "0  0.104229   0.198694         0.246967         0.165518      0.549934   \n",
       "1  0.055748   0.114396         0.135499         0.126473      0.385468   \n",
       "2  0.028340   0.055731         0.078990         0.086908      0.336523   \n",
       "3  0.124097   0.218773         0.257541         0.213740      0.464403   \n",
       "4  0.008715   0.013589         0.016569         0.077079      0.194315   \n",
       "\n",
       "   Eccentricity  ConvexArea  EquivDiameter    Extent  Solidity  roundness  \\\n",
       "0      0.883887    0.101465       0.190304  0.333127  0.933884   0.715687   \n",
       "1      0.795443    0.054511       0.110772  0.533453  0.902047   0.776947   \n",
       "2      0.758933    0.027513       0.059695  0.792964  0.924703   0.869780   \n",
       "3      0.843291    0.122044       0.219934  0.401647  0.858085   0.763829   \n",
       "4      0.604452    0.008307       0.019274  0.705791  0.931560   0.922235   \n",
       "\n",
       "   Compactness  ShapeFactor1  ShapeFactor2  ShapeFactor3  ShapeFactor4  \n",
       "0     0.300877      0.570351      0.256253      0.256074      0.957751  \n",
       "1     0.452920      0.645632      0.440609      0.400144      0.941143  \n",
       "2     0.505931      0.733560      0.559513      0.452690      0.953829  \n",
       "3     0.369044      0.498138      0.276116      0.319448      0.829136  \n",
       "4     0.682223      0.756639      0.828764      0.636047      0.977839  "
      ]
     },
     "execution_count": 4,
     "metadata": {},
     "output_type": "execute_result"
    }
   ],
   "source": [
    "y = df.Class\n",
    "y = pd.get_dummies(y,dtype=float)\n",
    "X = df.drop(['Class'], axis = 1)\n",
    "sclr = MinMaxScaler()\n",
    "X = pd.DataFrame(sclr.fit_transform(X), columns = X.columns)\n",
    "X.head()"
   ]
  },
  {
   "cell_type": "code",
   "execution_count": 5,
   "id": "b1c6f699-58fc-4518-a75d-e0f7ba5d4137",
   "metadata": {
    "colab": {
     "base_uri": "https://localhost:8080/",
     "height": 204
    },
    "id": "b1c6f699-58fc-4518-a75d-e0f7ba5d4137",
    "outputId": "3cb1360a-e346-405f-ba2a-b9ad06248d08",
    "tags": []
   },
   "outputs": [
    {
     "data": {
      "text/html": [
       "<div>\n",
       "<style scoped>\n",
       "    .dataframe tbody tr th:only-of-type {\n",
       "        vertical-align: middle;\n",
       "    }\n",
       "\n",
       "    .dataframe tbody tr th {\n",
       "        vertical-align: top;\n",
       "    }\n",
       "\n",
       "    .dataframe thead th {\n",
       "        text-align: right;\n",
       "    }\n",
       "</style>\n",
       "<table border=\"1\" class=\"dataframe\">\n",
       "  <thead>\n",
       "    <tr style=\"text-align: right;\">\n",
       "      <th></th>\n",
       "      <th>BARBUNYA</th>\n",
       "      <th>BOMBAY</th>\n",
       "      <th>CALI</th>\n",
       "      <th>DERMASON</th>\n",
       "      <th>HOROZ</th>\n",
       "      <th>SEKER</th>\n",
       "      <th>SIRA</th>\n",
       "    </tr>\n",
       "  </thead>\n",
       "  <tbody>\n",
       "    <tr>\n",
       "      <th>0</th>\n",
       "      <td>0.0</td>\n",
       "      <td>0.0</td>\n",
       "      <td>0.0</td>\n",
       "      <td>0.0</td>\n",
       "      <td>0.0</td>\n",
       "      <td>0.0</td>\n",
       "      <td>1.0</td>\n",
       "    </tr>\n",
       "    <tr>\n",
       "      <th>1</th>\n",
       "      <td>0.0</td>\n",
       "      <td>0.0</td>\n",
       "      <td>0.0</td>\n",
       "      <td>1.0</td>\n",
       "      <td>0.0</td>\n",
       "      <td>0.0</td>\n",
       "      <td>0.0</td>\n",
       "    </tr>\n",
       "    <tr>\n",
       "      <th>2</th>\n",
       "      <td>0.0</td>\n",
       "      <td>0.0</td>\n",
       "      <td>0.0</td>\n",
       "      <td>1.0</td>\n",
       "      <td>0.0</td>\n",
       "      <td>0.0</td>\n",
       "      <td>0.0</td>\n",
       "    </tr>\n",
       "    <tr>\n",
       "      <th>3</th>\n",
       "      <td>0.0</td>\n",
       "      <td>0.0</td>\n",
       "      <td>0.0</td>\n",
       "      <td>0.0</td>\n",
       "      <td>0.0</td>\n",
       "      <td>0.0</td>\n",
       "      <td>1.0</td>\n",
       "    </tr>\n",
       "    <tr>\n",
       "      <th>4</th>\n",
       "      <td>0.0</td>\n",
       "      <td>0.0</td>\n",
       "      <td>0.0</td>\n",
       "      <td>1.0</td>\n",
       "      <td>0.0</td>\n",
       "      <td>0.0</td>\n",
       "      <td>0.0</td>\n",
       "    </tr>\n",
       "  </tbody>\n",
       "</table>\n",
       "</div>"
      ],
      "text/plain": [
       "   BARBUNYA  BOMBAY  CALI  DERMASON  HOROZ  SEKER  SIRA\n",
       "0       0.0     0.0   0.0       0.0    0.0    0.0   1.0\n",
       "1       0.0     0.0   0.0       1.0    0.0    0.0   0.0\n",
       "2       0.0     0.0   0.0       1.0    0.0    0.0   0.0\n",
       "3       0.0     0.0   0.0       0.0    0.0    0.0   1.0\n",
       "4       0.0     0.0   0.0       1.0    0.0    0.0   0.0"
      ]
     },
     "execution_count": 5,
     "metadata": {},
     "output_type": "execute_result"
    }
   ],
   "source": [
    "y.head(5)"
   ]
  },
  {
   "cell_type": "markdown",
   "id": "o4QPlcYa0sHN",
   "metadata": {
    "id": "o4QPlcYa0sHN"
   },
   "source": [
    "### Exercise 1.2 : Training and Testing the Neural Network (40 points)\n",
    "\n",
    "Design a 4-layer (4 hidden layers and this does not include the output layer) artificial deep neural network, specifically a feed-forward multi-layer perceptron (using the sigmoid activation function), to classify the type of 'Dry Bean' given the other attributes in the data set, similar to the one mentioned in the paper above. Please note that this is a multi-class classification problem so select the right number of nodes accordingly for the output layer.\n",
    "\n",
    "For training and testing the model, split the data into training and testing set by __90:10__ and use the training set for training the model and the test set to evaluate the model performance.\n",
    "\n",
    "Consider the following hyperparameters while developing your model :\n",
    "\n",
    "- Model type: Keras Sequential\n",
    "- Number and type of layers: 4 and Dense\n",
    "- Number of nodes in each hidden layer: 12\n",
    "- Learning rate should be 0.3\n",
    "- Number of epochs should be 100\n",
    "- The sigmoid function should be used as the activation function in each layer\n",
    "- Stochastic Gradient Descent should be used to minimize the error rate\n",
    "\n",
    "__Requirements once the model has been trained :__\n",
    "\n",
    "- A confusion matrix for all classes, specifying the true positive, true negative, false positive, and false negative cases for each category in the class\n",
    "- The accuracy and mean squared error (MSE) of the model\n",
    "- The precision and recall for each label in the class\n",
    "\n",
    "__Notes :__\n",
    "\n",
    "- Splitting of the dataset should be done __after__ the data preprocessing step.\n",
    "- The mean squared error (MSE) values obtained __should be positive__.\n"
   ]
  },
  {
   "cell_type": "code",
   "execution_count": 6,
   "id": "b72541df-6035-4a87-8e30-85d816518d30",
   "metadata": {
    "id": "b72541df-6035-4a87-8e30-85d816518d30",
    "tags": []
   },
   "outputs": [],
   "source": [
    "X_train, X_test, y_train, y_test = train_test_split(X, y, test_size=0.1, random_state=42)"
   ]
  },
  {
   "cell_type": "code",
   "execution_count": 7,
   "id": "KhW7lew706U8",
   "metadata": {
    "colab": {
     "base_uri": "https://localhost:8080/"
    },
    "id": "KhW7lew706U8",
    "outputId": "a4f3a166-2641-4f97-b6a7-43e439d41c68",
    "tags": []
   },
   "outputs": [
    {
     "name": "stdout",
     "output_type": "stream",
     "text": [
      "WARNING:tensorflow:From C:\\Users\\dskon\\anaconda3\\Lib\\site-packages\\keras\\src\\backend.py:873: The name tf.get_default_graph is deprecated. Please use tf.compat.v1.get_default_graph instead.\n",
      "\n"
     ]
    }
   ],
   "source": [
    "#model\n",
    "model = Sequential(\n",
    "    [\n",
    "    Dense(12, input_dim=X.shape[1], activation='sigmoid', name=\"input\"),\n",
    "    Dense(12, activation='sigmoid', name=\"layer1\"),\n",
    "    Dense(12, activation='sigmoid', name=\"layer2\"),\n",
    "    Dense(12, activation='sigmoid', name=\"layer3\"),\n",
    "    Dense(orig_df.Class.unique().size, activation='softmax', name=\"output\")\n",
    "    ]\n",
    ")\n",
    "\n",
    "sgd = SGD(learning_rate=0.3)\n",
    "\n",
    "\n",
    "#compile\n",
    "model.compile(optimizer=sgd, loss='categorical_crossentropy', metrics=['accuracy','mse']) #use mse or categorical_crossentropy for loss?"
   ]
  },
  {
   "cell_type": "code",
   "execution_count": 8,
   "id": "54431f38-36fa-4c6c-8059-fd8b624c94d1",
   "metadata": {
    "colab": {
     "base_uri": "https://localhost:8080/"
    },
    "id": "54431f38-36fa-4c6c-8059-fd8b624c94d1",
    "outputId": "36085d97-b3ba-4cc3-a184-ffd35f51e840",
    "tags": []
   },
   "outputs": [
    {
     "name": "stdout",
     "output_type": "stream",
     "text": [
      "WARNING:tensorflow:From C:\\Users\\dskon\\anaconda3\\Lib\\site-packages\\keras\\src\\utils\\tf_utils.py:492: The name tf.ragged.RaggedTensorValue is deprecated. Please use tf.compat.v1.ragged.RaggedTensorValue instead.\n",
      "\n",
      "WARNING:tensorflow:From C:\\Users\\dskon\\anaconda3\\Lib\\site-packages\\keras\\src\\engine\\base_layer_utils.py:384: The name tf.executing_eagerly_outside_functions is deprecated. Please use tf.compat.v1.executing_eagerly_outside_functions instead.\n",
      "\n"
     ]
    },
    {
     "data": {
      "text/plain": [
       "<keras.src.callbacks.History at 0x1bf42595250>"
      ]
     },
     "execution_count": 8,
     "metadata": {},
     "output_type": "execute_result"
    }
   ],
   "source": [
    "model.fit(X_train, y_train, epochs=100, validation_data = (X_test, y_test),verbose=0)"
   ]
  },
  {
   "cell_type": "code",
   "execution_count": 9,
   "id": "ceeafe12-5b6e-41a4-b49b-bb7d77edb453",
   "metadata": {
    "colab": {
     "base_uri": "https://localhost:8080/"
    },
    "id": "ceeafe12-5b6e-41a4-b49b-bb7d77edb453",
    "outputId": "c837559c-da64-41cc-b98d-e3a999e0804e",
    "tags": []
   },
   "outputs": [],
   "source": [
    "y_pred = model.predict(X_test,verbose=0) #predicting\n",
    "\n",
    "y_pred_flat = np.argmax(y_pred,axis=1) #flattening into 1-d array, with value representing class it was classfied as\n",
    "y_test_flat = np.argmax(y_test.values,axis=1) #formatting the test y data to be the same\n",
    "\n",
    "conf_m = tf.math.confusion_matrix(y_test_flat,y_pred_flat) #creating confusion matrix\n",
    "conf_m = pd.DataFrame(conf_m, columns=y.columns, index=y.columns)\n",
    "full_conf_m=pd.concat({'Observations': conf_m}, names=['Predictions']) #clarifying confusion matrix\n",
    "\n",
    "#helper func for the multi-class accuraccy and recall\n",
    "def get_metrics(df, model):\n",
    "    metrics = model.get_metrics_result()\n",
    "    mse = metrics['mse'].numpy()\n",
    "    acc = metrics['accuracy'].numpy()\n",
    "    print('Model MSE:', mse)\n",
    "    print('Model Accuracy:', acc)\n",
    "    for cl in df.index:\n",
    "        tp = df.loc[cl][cl]\n",
    "        fp = df[cl].sum() - tp\n",
    "        fn = df.loc[cl].sum()-tp\n",
    "        print(cl,'recall:',round((tp/(tp+fn)),5),'precision:',round((tp/(tp+fp)),5))\n",
    "\n",
    "    return"
   ]
  },
  {
   "cell_type": "code",
   "execution_count": 10,
   "id": "9ef9c1ac-e1f8-492e-b15a-c99fb67a9a50",
   "metadata": {
    "colab": {
     "base_uri": "https://localhost:8080/",
     "height": 467
    },
    "id": "9ef9c1ac-e1f8-492e-b15a-c99fb67a9a50",
    "outputId": "299fe3b2-bff7-4e6c-f53b-c93724401b37",
    "tags": []
   },
   "outputs": [
    {
     "name": "stdout",
     "output_type": "stream",
     "text": [
      "Test mse: 0.019593754783272743\n",
      "Test accuracy: 0.9060205817222595\n",
      "Model MSE: 0.019593755\n",
      "Model Accuracy: 0.9060206\n",
      "BARBUNYA recall: 0.92701 precision: 0.92701\n",
      "BOMBAY recall: 1.0 precision: 1.0\n",
      "CALI recall: 0.9641 precision: 0.92611\n",
      "DERMASON recall: 0.84211 precision: 0.93506\n",
      "HOROZ recall: 0.96133 precision: 0.90155\n",
      "SEKER recall: 0.905 precision: 0.97312\n",
      "SIRA recall: 0.87295 precision: 0.78309\n",
      "Confusion Matrix:\n"
     ]
    },
    {
     "data": {
      "text/html": [
       "<div>\n",
       "<style scoped>\n",
       "    .dataframe tbody tr th:only-of-type {\n",
       "        vertical-align: middle;\n",
       "    }\n",
       "\n",
       "    .dataframe tbody tr th {\n",
       "        vertical-align: top;\n",
       "    }\n",
       "\n",
       "    .dataframe thead th {\n",
       "        text-align: right;\n",
       "    }\n",
       "</style>\n",
       "<table border=\"1\" class=\"dataframe\">\n",
       "  <thead>\n",
       "    <tr style=\"text-align: right;\">\n",
       "      <th></th>\n",
       "      <th></th>\n",
       "      <th>BARBUNYA</th>\n",
       "      <th>BOMBAY</th>\n",
       "      <th>CALI</th>\n",
       "      <th>DERMASON</th>\n",
       "      <th>HOROZ</th>\n",
       "      <th>SEKER</th>\n",
       "      <th>SIRA</th>\n",
       "    </tr>\n",
       "    <tr>\n",
       "      <th>Predictions</th>\n",
       "      <th></th>\n",
       "      <th></th>\n",
       "      <th></th>\n",
       "      <th></th>\n",
       "      <th></th>\n",
       "      <th></th>\n",
       "      <th></th>\n",
       "      <th></th>\n",
       "    </tr>\n",
       "  </thead>\n",
       "  <tbody>\n",
       "    <tr>\n",
       "      <th rowspan=\"7\" valign=\"top\">Observations</th>\n",
       "      <th>BARBUNYA</th>\n",
       "      <td>127</td>\n",
       "      <td>0</td>\n",
       "      <td>7</td>\n",
       "      <td>0</td>\n",
       "      <td>2</td>\n",
       "      <td>1</td>\n",
       "      <td>0</td>\n",
       "    </tr>\n",
       "    <tr>\n",
       "      <th>BOMBAY</th>\n",
       "      <td>0</td>\n",
       "      <td>63</td>\n",
       "      <td>0</td>\n",
       "      <td>0</td>\n",
       "      <td>0</td>\n",
       "      <td>0</td>\n",
       "      <td>0</td>\n",
       "    </tr>\n",
       "    <tr>\n",
       "      <th>CALI</th>\n",
       "      <td>2</td>\n",
       "      <td>0</td>\n",
       "      <td>188</td>\n",
       "      <td>0</td>\n",
       "      <td>4</td>\n",
       "      <td>1</td>\n",
       "      <td>0</td>\n",
       "    </tr>\n",
       "    <tr>\n",
       "      <th>DERMASON</th>\n",
       "      <td>0</td>\n",
       "      <td>0</td>\n",
       "      <td>0</td>\n",
       "      <td>288</td>\n",
       "      <td>3</td>\n",
       "      <td>1</td>\n",
       "      <td>50</td>\n",
       "    </tr>\n",
       "    <tr>\n",
       "      <th>HOROZ</th>\n",
       "      <td>0</td>\n",
       "      <td>0</td>\n",
       "      <td>6</td>\n",
       "      <td>0</td>\n",
       "      <td>174</td>\n",
       "      <td>0</td>\n",
       "      <td>1</td>\n",
       "    </tr>\n",
       "    <tr>\n",
       "      <th>SEKER</th>\n",
       "      <td>6</td>\n",
       "      <td>0</td>\n",
       "      <td>0</td>\n",
       "      <td>5</td>\n",
       "      <td>0</td>\n",
       "      <td>181</td>\n",
       "      <td>8</td>\n",
       "    </tr>\n",
       "    <tr>\n",
       "      <th>SIRA</th>\n",
       "      <td>2</td>\n",
       "      <td>0</td>\n",
       "      <td>2</td>\n",
       "      <td>15</td>\n",
       "      <td>10</td>\n",
       "      <td>2</td>\n",
       "      <td>213</td>\n",
       "    </tr>\n",
       "  </tbody>\n",
       "</table>\n",
       "</div>"
      ],
      "text/plain": [
       "                       BARBUNYA  BOMBAY  CALI  DERMASON  HOROZ  SEKER  SIRA\n",
       "Predictions                                                                \n",
       "Observations BARBUNYA       127       0     7         0      2      1     0\n",
       "             BOMBAY           0      63     0         0      0      0     0\n",
       "             CALI             2       0   188         0      4      1     0\n",
       "             DERMASON         0       0     0       288      3      1    50\n",
       "             HOROZ            0       0     6         0    174      0     1\n",
       "             SEKER            6       0     0         5      0    181     8\n",
       "             SIRA             2       0     2        15     10      2   213"
      ]
     },
     "execution_count": 10,
     "metadata": {},
     "output_type": "execute_result"
    }
   ],
   "source": [
    "score = model.evaluate(X_test, y_test, verbose=0)\n",
    "print(\"Test mse:\", score[2])\n",
    "print(\"Test accuracy:\", score[1])\n",
    "get_metrics(conf_m, model)\n",
    "print('Confusion Matrix:')\n",
    "full_conf_m"
   ]
  },
  {
   "cell_type": "markdown",
   "id": "083f5188",
   "metadata": {
    "id": "083f5188"
   },
   "source": [
    "## Exercise 2 : k-fold Cross Validation (20 points)\n",
    "\n",
    "In order to avoid using biased models, use 10-fold cross validation to generalize the model from Ex1.2 on the given data set. You can choose a n_repeats value of 1-5\n",
    "\n",
    "__Requirements :__\n",
    "- Print the accuracy and MSE values during each iteration of the cross validation\n",
    "- Print the overall average accuracy and MSE value\n",
    "\n",
    "__Note :__ The mean squared error (MSE) values obtained should be positive."
   ]
  },
  {
   "cell_type": "code",
   "execution_count": 34,
   "id": "f838fc75-b821-4472-b599-f5b037f66c88",
   "metadata": {
    "tags": []
   },
   "outputs": [],
   "source": [
    "def buildmodel():\n",
    "    model = Sequential(\n",
    "        [\n",
    "        Dense(12, input_dim=X.shape[1], activation='sigmoid', name=\"input\"),\n",
    "        Dense(12, activation='sigmoid', name=\"layer1\"),\n",
    "        Dense(12, activation='sigmoid', name=\"layer2\"),\n",
    "        Dense(12, activation='sigmoid', name=\"layer3\"),\n",
    "        Dense(orig_df.Class.unique().size, activation='softmax', name=\"output\")\n",
    "        ]\n",
    "    )\n",
    "    sgd = SGD(learning_rate=0.3)\n",
    "\n",
    "    model.compile(optimizer=sgd, loss='categorical_crossentropy', metrics=['accuracy','mse'])\n",
    "    return(model)"
   ]
  },
  {
   "cell_type": "code",
   "execution_count": 35,
   "id": "tu8rIov607s4",
   "metadata": {
    "colab": {
     "base_uri": "https://localhost:8080/"
    },
    "id": "tu8rIov607s4",
    "outputId": "17cf27a4-0d48-4302-c672-b31336b7dd98",
    "tags": []
   },
   "outputs": [
    {
     "name": "stdout",
     "output_type": "stream",
     "text": [
      "[fold 1] mse: 0.01974, acc: 0.90235\n",
      "[fold 2] mse: 0.01469, acc: 0.92579\n",
      "[fold 3] mse: 0.01580, acc: 0.92652\n",
      "[fold 4] mse: 0.01841, acc: 0.91771\n",
      "[fold 5] mse: 0.01684, acc: 0.92065\n",
      "[fold 6] mse: 0.01993, acc: 0.90375\n",
      "[fold 7] mse: 0.01676, acc: 0.91844\n",
      "[fold 8] mse: 0.01556, acc: 0.92359\n",
      "[fold 9] mse: 0.01677, acc: 0.92212\n",
      "[fold 10] mse: 0.01600, acc: 0.92579\n",
      "overall mean mse: 0.017050643\n",
      "overall mean accuracy: 0.9186699\n"
     ]
    }
   ],
   "source": [
    "kFold = RepeatedKFold(n_splits=10, n_repeats=1)\n",
    "\n",
    "mselist=[]\n",
    "acclist=[]\n",
    "for k, (train, test) in enumerate(kFold.split(X, y)):\n",
    "    testmodel = buildmodel()\n",
    "    testmodel.fit(X.iloc[train], y.iloc[train],epochs=100,validation_data=(X.iloc[test], y.iloc[test]),verbose=0)\n",
    "    metrics = testmodel.get_metrics_result()\n",
    "    mse = metrics['mse'].numpy()\n",
    "    acc = metrics['accuracy'].numpy()\n",
    "    mselist.append(mse)\n",
    "    acclist.append(acc)\n",
    "    print(\n",
    "        \"[fold {0}] mse: {1:.5f}, acc: {2:.5f}\".format(\n",
    "            k+1, mse, acc)\n",
    "        )\n",
    "    i = train\n",
    "print('overall mean mse:', np.mean(mselist))\n",
    "print('overall mean accuracy:', np.mean(acclist))"
   ]
  },
  {
   "cell_type": "markdown",
   "id": "cef874c5",
   "metadata": {
    "id": "cef874c5"
   },
   "source": [
    "## Exercise 3 : Hyperparameter Tuning (25 points)\n",
    "\n",
    "Use either grid search or random search methodology to find the optimal number of nodes required in each hidden layer, as well as the optimal learning rate and the different activation functions or optimization approaches, [keras_tuner examples](https://keras.io/guides/keras_tuner/getting_started/) such that the accuracy of the model is maximum for the given data set.\n",
    "\n",
    "__Requirements :__\n",
    "- The set of optimal hyperparameters\n",
    "- The maximum accuracy achieved using this set of optimal hyperparameters\n",
    "\n",
    "__Note :__ Hyperparameter tuning takes a lot of time to execute. Make sure that you choose the appropriate number of each hyperparameter (preferably 3 of each), and that you allocate enough time to execute your code."
   ]
  },
  {
   "cell_type": "code",
   "execution_count": 31,
   "id": "c3f9917e-5794-4985-80cf-a3cb8862e2dd",
   "metadata": {
    "tags": []
   },
   "outputs": [
    {
     "data": {
      "text/plain": [
       "0.0001"
      ]
     },
     "execution_count": 31,
     "metadata": {},
     "output_type": "execute_result"
    }
   ],
   "source": [
    "#hp.Float(\"lr\", min_value=1e-4, max_value=0.5, sampling=\"log\")"
   ]
  },
  {
   "cell_type": "code",
   "execution_count": 36,
   "id": "5572c87d",
   "metadata": {
    "id": "5572c87d",
    "tags": []
   },
   "outputs": [
    {
     "data": {
      "text/plain": [
       "<keras.src.engine.sequential.Sequential at 0x1bf5f9eaf50>"
      ]
     },
     "execution_count": 36,
     "metadata": {},
     "output_type": "execute_result"
    }
   ],
   "source": [
    "hp = kt.HyperParameters()\n",
    "def build_model(hp):\n",
    "    \n",
    "    node_param = hp.Int(\"units\", min_value=1, max_value=15, step=1)\n",
    "    activation=hp.Choice(\"activation\", [\"sigmoid\", \"relu\",\"tanh\"])\n",
    "    lr = hp.Choice('lr', [0.1,0.3,0.5])\n",
    "    loss_param = hp.Choice('loss', ['categorical_crossentropy','mse','categorical_hinge'])\n",
    "    \n",
    "    model = Sequential(\n",
    "    [Dense(node_param, input_dim=X.shape[1], activation=activation, name=\"input\"),\n",
    "    Dense(node_param, activation=activation, name=\"layer1\"),\n",
    "    Dense(node_param, activation=activation, name=\"layer2\"),\n",
    "    Dense(node_param, activation=activation, name=\"layer3\"),\n",
    "    Dense(orig_df.Class.unique().size, activation='softmax', name=\"output\")]\n",
    "    )\n",
    "\n",
    "    sgd = SGD(learning_rate=lr)\n",
    "    \n",
    "    model.compile(optimizer=sgd, loss=loss_param, metrics=['accuracy','mse'])\n",
    "    return model\n",
    "\n",
    "build_model(kt.HyperParameters())\n",
    "\n",
    "tuner = kt.RandomSearch(\n",
    "    hypermodel=build_model,\n",
    "    objective=\"accuracy\",\n",
    "    executions_per_trial=1,\n",
    "    max_trials=50,\n",
    "    overwrite=True,\n",
    ")\n",
    "build_model(kt.HyperParameters())"
   ]
  },
  {
   "cell_type": "code",
   "execution_count": 37,
   "id": "3c5c4bba-6813-4bc5-8ffc-fc09d1ab204f",
   "metadata": {
    "tags": []
   },
   "outputs": [
    {
     "name": "stdout",
     "output_type": "stream",
     "text": [
      "Trial 50 Complete [00h 00m 38s]\n",
      "accuracy: 0.9258714914321899\n",
      "\n",
      "Best accuracy So Far: 0.9270960688591003\n",
      "Total elapsed time: 00h 32m 28s\n"
     ]
    }
   ],
   "source": [
    "tuner.search(X_train, y_train, epochs=100, validation_data=(X_test, y_test))"
   ]
  },
  {
   "cell_type": "code",
   "execution_count": 38,
   "id": "5e0d5842-6146-49cf-8902-52313c5e36a0",
   "metadata": {
    "tags": []
   },
   "outputs": [
    {
     "name": "stdout",
     "output_type": "stream",
     "text": [
      "WARNING:tensorflow:Detecting that an object or model or tf.train.Checkpoint is being deleted with unrestored values. See the following logs for the specific values in question. To silence these warnings, use `status.expect_partial()`. See https://www.tensorflow.org/api_docs/python/tf/train/Checkpoint#restorefor details about the status object returned by the restore function.\n",
      "WARNING:tensorflow:Value in checkpoint could not be found in the restored object: (root).optimizer._variables.1\n",
      "WARNING:tensorflow:Value in checkpoint could not be found in the restored object: (root).optimizer._variables.2\n",
      "WARNING:tensorflow:Value in checkpoint could not be found in the restored object: (root).optimizer._variables.3\n",
      "WARNING:tensorflow:Value in checkpoint could not be found in the restored object: (root).optimizer._variables.4\n",
      "WARNING:tensorflow:Value in checkpoint could not be found in the restored object: (root).optimizer._variables.5\n",
      "WARNING:tensorflow:Value in checkpoint could not be found in the restored object: (root).optimizer._variables.6\n",
      "WARNING:tensorflow:Value in checkpoint could not be found in the restored object: (root).optimizer._variables.7\n",
      "WARNING:tensorflow:Value in checkpoint could not be found in the restored object: (root).optimizer._variables.8\n",
      "WARNING:tensorflow:Value in checkpoint could not be found in the restored object: (root).optimizer._variables.9\n",
      "WARNING:tensorflow:Value in checkpoint could not be found in the restored object: (root).optimizer._variables.10\n",
      "Model: \"sequential\"\n",
      "_________________________________________________________________\n",
      " Layer (type)                Output Shape              Param #   \n",
      "=================================================================\n",
      " input (Dense)               (None, 13)                221       \n",
      "                                                                 \n",
      " layer1 (Dense)              (None, 13)                182       \n",
      "                                                                 \n",
      " layer2 (Dense)              (None, 13)                182       \n",
      "                                                                 \n",
      " layer3 (Dense)              (None, 13)                182       \n",
      "                                                                 \n",
      " output (Dense)              (None, 7)                 98        \n",
      "                                                                 \n",
      "=================================================================\n",
      "Total params: 865 (3.38 KB)\n",
      "Trainable params: 865 (3.38 KB)\n",
      "Non-trainable params: 0 (0.00 Byte)\n",
      "_________________________________________________________________\n"
     ]
    }
   ],
   "source": [
    "models = tuner.get_best_models(num_models=1)\n",
    "best_model = models[0]\n",
    "best_model.summary()"
   ]
  },
  {
   "cell_type": "code",
   "execution_count": 39,
   "id": "d42852fb-ab0a-479f-9bd4-5d100302cb12",
   "metadata": {
    "tags": []
   },
   "outputs": [
    {
     "name": "stdout",
     "output_type": "stream",
     "text": [
      "Results summary\n",
      "Results in .\\untitled_project\n",
      "Showing 1 best trials\n",
      "Objective(name=\"accuracy\", direction=\"max\")\n",
      "\n",
      "Trial 36 summary\n",
      "Hyperparameters:\n",
      "units: 13\n",
      "activation: tanh\n",
      "lr: 0.1\n",
      "loss: categorical_crossentropy\n",
      "Score: 0.9270960688591003\n"
     ]
    }
   ],
   "source": [
    "tuner.results_summary(1)"
   ]
  },
  {
   "cell_type": "code",
   "execution_count": null,
   "id": "9ab0dbf8-603f-4080-a2c8-4b7b97c2d668",
   "metadata": {
    "tags": []
   },
   "outputs": [],
   "source": []
  },
  {
   "cell_type": "code",
   "execution_count": null,
   "id": "d50ffac6-d49f-48b2-8a2e-0c3d6aab3abb",
   "metadata": {
    "tags": []
   },
   "outputs": [],
   "source": []
  },
  {
   "cell_type": "markdown",
   "id": "nPfZ4mzk09EI",
   "metadata": {
    "id": "nPfZ4mzk09EI"
   },
   "source": [
    "## Exercise 4 - Collaborative Statement (5 points)\n",
    "\n",
    "It is mandatory to include a Statement of Collaboration in each submission, that follows the guidelines below.\n",
    "Include the names of everyone involved in the discussions (especially in-person ones), and what was discussed.\n",
    "All students are required to follow the academic honesty guidelines posted on the course website. For\n",
    "programming assignments in particular, I encourage students to organize (perhaps using Piazza) to discuss the\n",
    "task descriptions, requirements, possible bugs in the support code, and the relevant technical content before they\n",
    "start working on it. However, you should not discuss the specific solutions, and as a guiding principle, you are\n",
    "not allowed to take anything written or drawn away from these discussions (no photographs of the blackboard,\n",
    "written notes, referring to Piazza, etc.). Especially after you have started working on the assignment, try to restrict\n",
    "the discussion to Piazza as much as possible, so that there is no doubt as to the extent of your collaboration."
   ]
  },
  {
   "cell_type": "code",
   "execution_count": null,
   "id": "5Cawhjqe09Q6",
   "metadata": {
    "id": "5Cawhjqe09Q6"
   },
   "outputs": [],
   "source": []
  }
 ],
 "metadata": {
  "colab": {
   "provenance": [],
   "toc_visible": true
  },
  "kernelspec": {
   "display_name": "Python 3 (ipykernel)",
   "language": "python",
   "name": "python3"
  },
  "language_info": {
   "codemirror_mode": {
    "name": "ipython",
    "version": 3
   },
   "file_extension": ".py",
   "mimetype": "text/x-python",
   "name": "python",
   "nbconvert_exporter": "python",
   "pygments_lexer": "ipython3",
   "version": "3.11.5"
  }
 },
 "nbformat": 4,
 "nbformat_minor": 5
}
